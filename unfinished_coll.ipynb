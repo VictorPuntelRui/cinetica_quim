{
 "cells": [
  {
   "cell_type": "markdown",
   "id": "e0c65338-5152-4d36-b1c2-ac441e1838e7",
   "metadata": {},
   "source": [
    "## Simulação Molecular (Dinâmica Molecular)"
   ]
  },
  {
   "cell_type": "markdown",
   "id": "87d5bd31-db26-4540-8b74-3a8ffab8750d",
   "metadata": {},
   "source": [
    "Anotações:\n",
    "* Modelo de Maxwell-Boltzmann\n",
    "* Conservação de momento e energia\n",
    "* Simulação em uma caixa, inicialmente bidimensional\n",
    "* Distribuição estatística em função da temperatura (alteração de velocidade)"
   ]
  },
  {
   "cell_type": "markdown",
   "id": "2a83a861-d31a-4b63-8d10-8c8f18a5968c",
   "metadata": {},
   "source": [
    "Leituras:\n",
    "https://introcs.cs.princeton.edu/java/assignments/collisions.html\n",
    "McQuirre, últimos 4 capítulos - amauri vai passar especificamente"
   ]
  },
  {
   "cell_type": "markdown",
   "id": "b67a0b79-d1eb-46aa-9276-8a5a33815ba3",
   "metadata": {},
   "source": [
    "Para aula 08:\n",
    "* código que descreva uma partícula em movimento (ou pelo menos uma ideia)"
   ]
  },
  {
   "cell_type": "code",
   "execution_count": 1,
   "id": "54907d72-2cde-49fc-aabd-e08e10784b11",
   "metadata": {},
   "outputs": [
    {
     "name": "stdout",
     "output_type": "stream",
     "text": [
      "pygame 2.5.0 (SDL 2.28.0, Python 3.9.7)\n",
      "Hello from the pygame community. https://www.pygame.org/contribute.html\n"
     ]
    }
   ],
   "source": [
    "import pygame\n",
    "import random\n",
    "import math\n",
    "\n",
    "# Initialize pygame\n",
    "pygame.init()\n",
    "\n",
    "# Constants\n",
    "WIDTH, HEIGHT = 800, 600\n",
    "FPS = 60\n",
    "\n",
    "# Colors\n",
    "WHITE = (255, 255, 255)\n",
    "\n",
    "# Particle class\n",
    "class Particle:\n",
    "    def __init__(self, x, y, radius, color, mass):\n",
    "        self.x = x\n",
    "        self.y = y\n",
    "        self.radius = radius\n",
    "        self.color = color\n",
    "        self.mass = mass\n",
    "        self.velocity_x = random.uniform(-3, 3)\n",
    "        self.velocity_y = random.uniform(-3, 3)\n",
    "\n",
    "    def move(self):\n",
    "        self.x += self.velocity_x\n",
    "        self.y += self.velocity_y\n",
    "        \n",
    "        # Bounce off walls\n",
    "        if self.x < self.radius or self.x > WIDTH - self.radius:\n",
    "            self.velocity_x *= -1\n",
    "        if self.y < self.radius or self.y > HEIGHT - self.radius:\n",
    "            self.velocity_y *= -1\n",
    "\n",
    "    def draw(self, screen):\n",
    "        pygame.draw.circle(screen, self.color, (int(self.x), int(self.y)), self.radius)\n",
    "\n",
    "def elastic_collision_2d(particle1, particle2):\n",
    "    total_mass = particle1.mass + particle2.mass\n",
    "    \n",
    "    # Calculate relative velocities\n",
    "    relative_velocity_x = particle2.velocity_x - particle1.velocity_x\n",
    "    relative_velocity_y = particle2.velocity_y - particle1.velocity_y\n",
    "    \n",
    "    # Calculate dot product of relative velocities and position vector\n",
    "    dot_product = (relative_velocity_x * (particle2.velocity_x - particle1.velocity_x)) + \\\n",
    "                  (relative_velocity_y * (particle2.velocity_y - particle1.velocity_y))\n",
    "    \n",
    "    # Calculate new velocities after collision using conservation of momentum\n",
    "    new_velocity1_x = (particle1.velocity_x * (particle1.mass - particle2.mass) + \\\n",
    "                       2 * particle2.mass * particle2.velocity_x) / total_mass\n",
    "    \n",
    "    new_velocity1_y = (particle1.velocity_y * (particle1.mass - particle2.mass) + \\\n",
    "                       2 * particle2.mass * particle2.velocity_y) / total_mass\n",
    "    \n",
    "    new_velocity2_x = (particle2.velocity_x * (particle2.mass - particle1.mass) + \\\n",
    "                       2 * particle1.mass * particle1.velocity_x) / total_mass\n",
    "    \n",
    "    new_velocity2_y = (particle2.velocity_y * (particle2.mass - particle1.mass) + \\\n",
    "                       2 * particle1.mass * particle1.velocity_y) / total_mass\n",
    "    \n",
    "    return new_velocity1_x, new_velocity1_y, new_velocity2_x, new_velocity2_y\n",
    "\n",
    "# Create particles\n",
    "particles = []\n",
    "for _ in range(10):\n",
    "    x = random.uniform(0, WIDTH)\n",
    "    y = random.uniform(0, HEIGHT)\n",
    "    radius = random.randint(10, 20)\n",
    "    color = (random.randint(0, 255), random.randint(0, 255), random.randint(0, 255))\n",
    "    mass = radius\n",
    "    particles.append(Particle(x, y, radius, color, mass))\n",
    "\n",
    "# Set up the display\n",
    "screen = pygame.display.set_mode((WIDTH, HEIGHT))\n",
    "pygame.display.set_caption(\"Particle Collision Simulation\")\n",
    "clock = pygame.time.Clock()\n",
    "\n",
    "# Main loop\n",
    "running = True\n",
    "while running:\n",
    "    for event in pygame.event.get():\n",
    "        if event.type == pygame.QUIT:\n",
    "            running = False\n",
    "    \n",
    "    # Move particles\n",
    "    for particle in particles:\n",
    "        particle.move()\n",
    "    \n",
    "    # Check for collisions\n",
    "    for i in range(len(particles)):\n",
    "        for j in range(i + 1, len(particles)):\n",
    "            dx = particles[i].x - particles[j].x\n",
    "            dy = particles[i].y - particles[j].y\n",
    "            distance = math.sqrt(dx ** 2 + dy ** 2)\n",
    "            \n",
    "            if distance < particles[i].radius + particles[j].radius:\n",
    "                # Perform elastic collision\n",
    "                new_vx1, new_vy1, new_vx2, new_vy2 = elastic_collision_2d(particles[i], particles[j])\n",
    "                particles[i].velocity_x, particles[i].velocity_y = new_vx1, new_vy1\n",
    "                particles[j].velocity_x, particles[j].velocity_y = new_vx2, new_vy2\n",
    "    \n",
    "    # Clear the screen\n",
    "    screen.fill(WHITE)\n",
    "    \n",
    "    # Draw particles\n",
    "    for particle in particles:\n",
    "        particle.draw(screen)\n",
    "    \n",
    "    # Update the display\n",
    "    pygame.display.flip()\n",
    "    clock.tick(FPS)\n",
    "\n",
    "# Clean up\n",
    "pygame.quit()"
   ]
  },
  {
   "cell_type": "code",
   "execution_count": null,
   "id": "5c4dbfa2-0ed5-4ccd-8154-6b5f63db3912",
   "metadata": {},
   "outputs": [],
   "source": []
  }
 ],
 "metadata": {
  "kernelspec": {
   "display_name": "ilumpy",
   "language": "python",
   "name": "ilumpy"
  },
  "language_info": {
   "codemirror_mode": {
    "name": "ipython",
    "version": 3
   },
   "file_extension": ".py",
   "mimetype": "text/x-python",
   "name": "python",
   "nbconvert_exporter": "python",
   "pygments_lexer": "ipython3",
   "version": "3.9.7"
  }
 },
 "nbformat": 4,
 "nbformat_minor": 5
}
